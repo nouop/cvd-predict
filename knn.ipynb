{
 "cells": [
  {
   "cell_type": "code",
   "execution_count": 1,
   "id": "7bf61e0a",
   "metadata": {},
   "outputs": [
    {
     "name": "stdout",
     "output_type": "stream",
     "text": [
      "Looking in indexes: https://pypi.tuna.tsinghua.edu.cn/simple\n",
      "Collecting scikit-learn\n",
      "  Downloading https://pypi.tuna.tsinghua.edu.cn/packages/25/92/ee1d7a00bb6b8c55755d4984fd82608603a3cc59959245068ce32e7fb808/scikit_learn-1.6.1-cp311-cp311-macosx_12_0_arm64.whl (11.1 MB)\n",
      "\u001b[2K     \u001b[90m━━━━━━━━━━━━━━━━━━━━━━━━━━━━━━━━━━━━━━━━\u001b[0m \u001b[32m11.1/11.1 MB\u001b[0m \u001b[31m35.0 MB/s\u001b[0m eta \u001b[36m0:00:00\u001b[0m \u001b[36m0:00:01\u001b[0m\n",
      "\u001b[?25hRequirement already satisfied: numpy>=1.19.5 in ./.conda/lib/python3.11/site-packages (from scikit-learn) (1.26.4)\n",
      "Collecting scipy>=1.6.0 (from scikit-learn)\n",
      "  Using cached https://pypi.tuna.tsinghua.edu.cn/packages/4b/fa/a7e5b95afd80d24313307f03624acc65801846fa75599034f8ceb9e2cbf6/scipy-1.15.3-cp311-cp311-macosx_14_0_arm64.whl (22.4 MB)\n",
      "Collecting joblib>=1.2.0 (from scikit-learn)\n",
      "  Downloading https://pypi.tuna.tsinghua.edu.cn/packages/da/d3/13ee227a148af1c693654932b8b0b02ed64af5e1f7406d56b088b57574cd/joblib-1.5.0-py3-none-any.whl (307 kB)\n",
      "Collecting threadpoolctl>=3.1.0 (from scikit-learn)\n",
      "  Downloading https://pypi.tuna.tsinghua.edu.cn/packages/32/d5/f9a850d79b0851d1d4ef6456097579a9005b31fea68726a4ae5f2d82ddd9/threadpoolctl-3.6.0-py3-none-any.whl (18 kB)\n",
      "Installing collected packages: threadpoolctl, scipy, joblib, scikit-learn\n",
      "\u001b[2K   \u001b[90m━━━━━━━━━━━━━━━━━━━━━━━━━━━━━━━━━━━━━━━━\u001b[0m \u001b[32m4/4\u001b[0m [scikit-learn][0m [scikit-learn]\n",
      "\u001b[1A\u001b[2KSuccessfully installed joblib-1.5.0 scikit-learn-1.6.1 scipy-1.15.3 threadpoolctl-3.6.0\n",
      "Note: you may need to restart the kernel to use updated packages.\n"
     ]
    }
   ],
   "source": [
    "%pip install scikit-learn"
   ]
  },
  {
   "cell_type": "code",
   "execution_count": 46,
   "id": "d80fb976",
   "metadata": {},
   "outputs": [],
   "source": [
    "import pandas as pd\n",
    "import numpy as np\n",
    "from sklearn.neighbors import KNeighborsClassifier\n",
    "from sklearn.model_selection import train_test_split\n",
    "from sklearn.svm import SVC\n",
    "from sklearn.cluster import KMeans"
   ]
  },
  {
   "cell_type": "code",
   "execution_count": 49,
   "id": "b57c7ca7",
   "metadata": {},
   "outputs": [],
   "source": [
    "dataset_df = pd.read_csv(\"data/cvd_v2.csv\", sep=',')"
   ]
  },
  {
   "cell_type": "code",
   "execution_count": 65,
   "id": "05d68137",
   "metadata": {},
   "outputs": [
    {
     "name": "stdout",
     "output_type": "stream",
     "text": [
      "61816个样本用于训练，6869个样本用于测试。\n"
     ]
    }
   ],
   "source": [
    "#特征变量\n",
    "x = dataset_df[['age', 'gender', 'height', 'weight', 'ap_hi', 'ap_lo', 'cholesterol', 'gluc', 'smoke', 'alco', 'active']]\n",
    "# x = dataset_df[['age',  'height', 'weight', 'ap_hi', 'ap_lo', 'cholesterol', 'gluc']]\n",
    "#目标变量\n",
    "y = dataset_df['cardio']\n",
    "\n",
    "x_train, x_test, y_train, y_test = train_test_split(\n",
    "    x, y, test_size=0.1\n",
    ")\n",
    "print(\"{}个样本用于训练，{}个样本用于测试。\".format(\n",
    "    len(x_train), len(x_test)))\n"
   ]
  },
  {
   "cell_type": "code",
   "execution_count": 45,
   "id": "a47c899a",
   "metadata": {},
   "outputs": [
    {
     "data": {
      "text/plain": [
       "0.7382442859222594"
      ]
     },
     "execution_count": 45,
     "metadata": {},
     "output_type": "execute_result"
    }
   ],
   "source": [
    "#新建一个KNN模型，设置个数为m\n",
    "model = SVC(kernel='linear')\n",
    "#使用训练集训练KNN模型\n",
    "model.fit(x_train, y_train)\n",
    "#使用测试集测试KNN模型\n",
    "model.score(x_test, y_test)"
   ]
  },
  {
   "cell_type": "code",
   "execution_count": 66,
   "id": "1d21715e",
   "metadata": {},
   "outputs": [
    {
     "name": "stdout",
     "output_type": "stream",
     "text": [
      "m = 1时，模型准确率为：0.6281845974668802\n",
      "m = 2时，模型准确率为：0.6332799534138884\n",
      "m = 3时，模型准确率为：0.6638520890959383\n",
      "m = 4时，模型准确率为：0.6619595283156209\n",
      "m = 5时，模型准确率为：0.676663269762702\n",
      "m = 6时，模型准确率为：0.6837967680885136\n",
      "m = 7时，模型准确率为：0.6872907264521765\n",
      "m = 8时，模型准确率为：0.6903479400203815\n",
      "m = 9时，模型准确率为：0.6957344591643616\n",
      "m = 10时，模型准确率为：0.6951521327704179\n",
      "m = 11时，模型准确率为：0.6942786431795022\n",
      "m = 12时，模型准确率为：0.6979181831416509\n",
      "m = 13时，模型准确率为：0.6999563255204542\n",
      "m = 14时，模型准确率为：0.700538651914398\n",
      "m = 15时，模型准确率为：0.7040326102780609\n",
      "m = 16时，模型准确率为：0.7044693550735187\n",
      "m = 17时，模型准确率为：0.7043237734750327\n",
      "m = 18时，模型准确率为：0.7053428446644344\n",
      "m = 19时，模型准确率为：0.7043237734750327\n",
      "m = 20时，模型准确率为：0.7041781918765468\n",
      "m = 21时，模型准确率为：0.7051972630659484\n",
      "m = 22时，模型准确率为：0.7046149366720047\n",
      "m = 23时，模型准确率为：0.703595865482603\n",
      "m = 24时，模型准确率为：0.7038870286795749\n",
      "m = 25时，模型准确率为：0.7057795894598923\n",
      "m = 26时，模型准确率为：0.7049060998689766\n",
      "m = 27时，模型准确率为：0.7070898238462658\n",
      "m = 28时，模型准确率为：0.7084000582326394\n",
      "m = 29时，模型准确率为：0.7070898238462658\n",
      "m = 30时，模型准确率为：0.7078177318386956\n",
      "m = 31时，模型准确率为：0.7086912214296113\n",
      "m = 32时，模型准确率为：0.7069442422477799\n",
      "m = 33时，模型准确率为：0.7082544766341534\n",
      "m = 34时，模型准确率为：0.7076721502402097\n",
      "m = 35时，模型准确率为：0.7101470374144708\n",
      "m = 36时，模型准确率为：0.706653079050808\n",
      "m = 37时，模型准确率为：0.7073809870432377\n",
      "m = 38时，模型准确率为：0.706507497452322\n",
      "m = 39时，模型准确率为：0.709855874217499\n",
      "m = 40时，模型准确率为：0.7085456398311254\n",
      "m = 41时，模型准确率为：0.7084000582326394\n",
      "m = 42时，模型准确率为：0.7063619158538361\n",
      "m = 43时，模型准确率为：0.7081088950356675\n",
      "m = 44时，模型准确率为：0.7082544766341534\n",
      "m = 45时，模型准确率为：0.7101470374144708\n",
      "m = 46时，模型准确率为：0.7085456398311254\n",
      "m = 47时，模型准确率为：0.7094191294220411\n",
      "m = 48时，模型准确率为：0.7091279662250691\n",
      "m = 49时，模型准确率为：0.7073809870432377\n",
      "m = 50时，模型准确率为：0.7072354054447518\n",
      "m = 51时，模型准确率为：0.7073809870432377\n",
      "m = 52时，模型准确率为：0.7075265686417237\n",
      "m = 53时，模型准确率为：0.7088368030280973\n",
      "m = 54时，模型准确率为：0.706653079050808\n",
      "m = 55时，模型准确率为：0.7078177318386956\n",
      "m = 56时，模型准确率为：0.7059251710583783\n",
      "m = 57时，模型准确率为：0.706798660649294\n",
      "m = 58时，模型准确率为：0.7063619158538361\n",
      "m = 59时，模型准确率为：0.7084000582326394\n",
      "m = 60时，模型准确率为：0.7076721502402097\n",
      "m = 61时，模型准确率为：0.706798660649294\n",
      "m = 62时，模型准确率为：0.7056340078614063\n",
      "m = 63时，模型准确率为：0.7057795894598923\n",
      "m = 64时，模型准确率为：0.7056340078614063\n",
      "m = 65时，模型准确率为：0.7059251710583783\n",
      "m = 66时，模型准确率为：0.7051972630659484\n",
      "m = 67时，模型准确率为：0.7053428446644344\n",
      "m = 68时，模型准确率为：0.7057795894598923\n",
      "m = 69时，模型准确率为：0.703741447081089\n",
      "m = 70时，模型准确率为：0.7046149366720047\n",
      "m = 71时，模型准确率为：0.7047605182704906\n",
      "m = 72时，模型准确率为：0.703741447081089\n",
      "m = 73时，模型准确率为：0.7051972630659484\n",
      "m = 74时，模型准确率为：0.7030135390886592\n",
      "m = 75时，模型准确率为：0.7053428446644344\n",
      "m = 76时，模型准确率为：0.703595865482603\n",
      "m = 77时，模型准确率为：0.7044693550735187\n",
      "m = 78时，模型准确率为：0.7044693550735187\n",
      "m = 79时，模型准确率为：0.7046149366720047\n",
      "m = 80时，模型准确率为：0.7031591206871451\n",
      "m = 81时，模型准确率为：0.7033047022856311\n",
      "m = 82时，模型准确率为：0.703450283884117\n",
      "m = 83时，模型准确率为：0.703450283884117\n",
      "m = 84时，模型准确率为：0.7028679574901733\n",
      "m = 85时，模型准确率为：0.7012665599068277\n",
      "m = 86时，模型准确率为：0.7009753967098559\n",
      "m = 87时，模型准确率为：0.7009753967098559\n",
      "m = 88时，模型准确率为：0.7009753967098559\n",
      "m = 89时，模型准确率为：0.700393070315912\n",
      "m = 90时，模型准确率为：0.7009753967098559\n",
      "m = 91时，模型准确率为：0.7025767942932013\n",
      "m = 92时，模型准确率为：0.7030135390886592\n",
      "m = 93时，模型准确率为：0.7033047022856311\n",
      "m = 94时，模型准确率为：0.7002474887174261\n",
      "m = 95时，模型准确率为：0.7012665599068277\n",
      "m = 96时，模型准确率为：0.7014121415053137\n",
      "m = 97时，模型准确率为：0.7021400494977434\n",
      "m = 98时，模型准确率为：0.700684233512884\n",
      "m = 99时，模型准确率为：0.7009753967098559\n"
     ]
    }
   ],
   "source": [
    "for m in range(1, 100):\n",
    "    #新建一个KNN模型，设置个数为m\n",
    "    model = KNeighborsClassifier(n_neighbors=m)\n",
    "    # model = KMeans(n_clusters=m)\n",
    "    \n",
    "    #使用训练集训练KNN模型\n",
    "    model.fit(x_train, y_train)\n",
    "    #使用测试集测试KNN模型\n",
    "    print(\"m = {}时，模型准确率为：{}\".format(m, model.score(x_test, y_test)))\n",
    "\n"
   ]
  }
 ],
 "metadata": {
  "kernelspec": {
   "display_name": "Python 3",
   "language": "python",
   "name": "python3"
  },
  "language_info": {
   "codemirror_mode": {
    "name": "ipython",
    "version": 3
   },
   "file_extension": ".py",
   "mimetype": "text/x-python",
   "name": "python",
   "nbconvert_exporter": "python",
   "pygments_lexer": "ipython3",
   "version": "3.11.11"
  }
 },
 "nbformat": 4,
 "nbformat_minor": 5
}
