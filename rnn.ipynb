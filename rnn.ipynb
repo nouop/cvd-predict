{
 "cells": [
  {
   "cell_type": "code",
   "execution_count": 5,
   "id": "af39dd66",
   "metadata": {},
   "outputs": [
    {
     "name": "stdout",
     "output_type": "stream",
     "text": [
      "Collecting scikit-learn\n",
      "  Downloading scikit_learn-1.6.1-cp310-cp310-manylinux_2_17_x86_64.manylinux2014_x86_64.whl (13.5 MB)\n",
      "\u001b[2K     \u001b[90m━━━━━━━━━━━━━━━━━━━━━━━━━━━━━━━━━━━━━━━━\u001b[0m \u001b[32m13.5/13.5 MB\u001b[0m \u001b[31m19.9 MB/s\u001b[0m eta \u001b[36m0:00:00\u001b[0m00:01\u001b[0m00:01\u001b[0m\n",
      "\u001b[?25hCollecting joblib>=1.2.0\n",
      "  Downloading joblib-1.5.0-py3-none-any.whl (307 kB)\n",
      "\u001b[2K     \u001b[90m━━━━━━━━━━━━━━━━━━━━━━━━━━━━━━━━━━━━━━\u001b[0m \u001b[32m307.7/307.7 KB\u001b[0m \u001b[31m57.2 MB/s\u001b[0m eta \u001b[36m0:00:00\u001b[0m\n",
      "\u001b[?25hCollecting threadpoolctl>=3.1.0\n",
      "  Downloading threadpoolctl-3.6.0-py3-none-any.whl (18 kB)\n",
      "Collecting scipy>=1.6.0\n",
      "  Downloading scipy-1.15.3-cp310-cp310-manylinux_2_17_x86_64.manylinux2014_x86_64.whl (37.7 MB)\n",
      "\u001b[2K     \u001b[90m━━━━━━━━━━━━━━━━━━━━━━━━━━━━━━━━━━━━━━━━\u001b[0m \u001b[32m37.7/37.7 MB\u001b[0m \u001b[31m5.3 MB/s\u001b[0m eta \u001b[36m0:00:00\u001b[0m00:01\u001b[0m00:01\u001b[0mm\n",
      "\u001b[?25hRequirement already satisfied: numpy>=1.19.5 in /usr/local/lib/python3.10/dist-packages (from scikit-learn) (1.26.4)\n",
      "Installing collected packages: threadpoolctl, scipy, joblib, scikit-learn\n",
      "Successfully installed joblib-1.5.0 scikit-learn-1.6.1 scipy-1.15.3 threadpoolctl-3.6.0\n",
      "\u001b[33mWARNING: Running pip as the 'root' user can result in broken permissions and conflicting behaviour with the system package manager. It is recommended to use a virtual environment instead: https://pip.pypa.io/warnings/venv\u001b[0m\u001b[33m\n",
      "\u001b[0mNote: you may need to restart the kernel to use updated packages.\n"
     ]
    }
   ],
   "source": [
    "%pip install scikit-learn"
   ]
  },
  {
   "cell_type": "code",
   "execution_count": 6,
   "id": "3754d2bb",
   "metadata": {},
   "outputs": [],
   "source": [
    "import pandas as pd\n",
    "import numpy as np"
   ]
  },
  {
   "cell_type": "code",
   "execution_count": 7,
   "id": "22688200",
   "metadata": {},
   "outputs": [],
   "source": [
    "dataset_df = pd.read_csv(\"data/cvd_v2.csv\", sep=',')"
   ]
  },
  {
   "cell_type": "code",
   "execution_count": 8,
   "id": "100e98bd",
   "metadata": {},
   "outputs": [],
   "source": [
    "from sklearn.model_selection import train_test_split\n",
    "\n",
    "X = dataset_df.iloc[:, :-1]\n",
    "y = dataset_df.iloc[:, -1]\n",
    "\n",
    "X_train, X_test, y_train, y_test = train_test_split(X, y, test_size=0.1, random_state=42)\n"
   ]
  },
  {
   "cell_type": "code",
   "execution_count": 9,
   "id": "ba39c766",
   "metadata": {},
   "outputs": [],
   "source": [
    "from sklearn.preprocessing import StandardScaler\n",
    "\n",
    "scaler = StandardScaler()\n",
    "X_train = scaler.fit_transform(X_train)\n",
    "X_test = scaler.transform(X_test)\n",
    "\n",
    "# 深度学习、用rnn模型，数据需要3通道，在图片中表示RGB，这里表示1\n",
    "X_train = X_train.reshape(X_train.shape[0], X_train.shape[1], 1)\n",
    "X_test = X_test.reshape(X_test.shape[0], X_test.shape[1], 1)\n"
   ]
  },
  {
   "cell_type": "code",
   "execution_count": 10,
   "id": "5ce4b3ca",
   "metadata": {},
   "outputs": [
    {
     "name": "stderr",
     "output_type": "stream",
     "text": [
      "2025-05-18 16:21:16.301544: I tensorflow/core/util/port.cc:153] oneDNN custom operations are on. You may see slightly different numerical results due to floating-point round-off errors from different computation orders. To turn them off, set the environment variable `TF_ENABLE_ONEDNN_OPTS=0`.\n",
      "2025-05-18 16:21:16.316844: E external/local_xla/xla/stream_executor/cuda/cuda_fft.cc:467] Unable to register cuFFT factory: Attempting to register factory for plugin cuFFT when one has already been registered\n",
      "WARNING: All log messages before absl::InitializeLog() is called are written to STDERR\n",
      "E0000 00:00:1747556476.335341   37376 cuda_dnn.cc:8579] Unable to register cuDNN factory: Attempting to register factory for plugin cuDNN when one has already been registered\n",
      "E0000 00:00:1747556476.341607   37376 cuda_blas.cc:1407] Unable to register cuBLAS factory: Attempting to register factory for plugin cuBLAS when one has already been registered\n",
      "W0000 00:00:1747556476.357988   37376 computation_placer.cc:177] computation placer already registered. Please check linkage and avoid linking the same target more than once.\n",
      "W0000 00:00:1747556476.358005   37376 computation_placer.cc:177] computation placer already registered. Please check linkage and avoid linking the same target more than once.\n",
      "W0000 00:00:1747556476.358007   37376 computation_placer.cc:177] computation placer already registered. Please check linkage and avoid linking the same target more than once.\n",
      "W0000 00:00:1747556476.358009   37376 computation_placer.cc:177] computation placer already registered. Please check linkage and avoid linking the same target more than once.\n",
      "2025-05-18 16:21:16.363464: I tensorflow/core/platform/cpu_feature_guard.cc:210] This TensorFlow binary is optimized to use available CPU instructions in performance-critical operations.\n",
      "To enable the following instructions: AVX2 AVX512F AVX512_VNNI FMA, in other operations, rebuild TensorFlow with the appropriate compiler flags.\n",
      "I0000 00:00:1747556478.645052   37376 gpu_device.cc:2019] Created device /job:localhost/replica:0/task:0/device:GPU:0 with 13775 MB memory:  -> device: 0, name: Tesla T4, pci bus id: 0000:40:00.0, compute capability: 7.5\n",
      "/usr/local/lib/python3.10/dist-packages/keras/src/layers/rnn/rnn.py:200: UserWarning: Do not pass an `input_shape`/`input_dim` argument to a layer. When using Sequential models, prefer using an `Input(shape)` object as the first layer in the model instead.\n",
      "  super().__init__(**kwargs)\n"
     ]
    },
    {
     "data": {
      "text/html": [
       "<pre style=\"white-space:pre;overflow-x:auto;line-height:normal;font-family:Menlo,'DejaVu Sans Mono',consolas,'Courier New',monospace\"><span style=\"font-weight: bold\">Model: \"sequential\"</span>\n",
       "</pre>\n"
      ],
      "text/plain": [
       "\u001b[1mModel: \"sequential\"\u001b[0m\n"
      ]
     },
     "metadata": {},
     "output_type": "display_data"
    },
    {
     "data": {
      "text/html": [
       "<pre style=\"white-space:pre;overflow-x:auto;line-height:normal;font-family:Menlo,'DejaVu Sans Mono',consolas,'Courier New',monospace\">┏━━━━━━━━━━━━━━━━━━━━━━━━━━━━━━━━━┳━━━━━━━━━━━━━━━━━━━━━━━━┳━━━━━━━━━━━━━━━┓\n",
       "┃<span style=\"font-weight: bold\"> Layer (type)                    </span>┃<span style=\"font-weight: bold\"> Output Shape           </span>┃<span style=\"font-weight: bold\">       Param # </span>┃\n",
       "┡━━━━━━━━━━━━━━━━━━━━━━━━━━━━━━━━━╇━━━━━━━━━━━━━━━━━━━━━━━━╇━━━━━━━━━━━━━━━┩\n",
       "│ simple_rnn (<span style=\"color: #0087ff; text-decoration-color: #0087ff\">SimpleRNN</span>)          │ (<span style=\"color: #00d7ff; text-decoration-color: #00d7ff\">None</span>, <span style=\"color: #00af00; text-decoration-color: #00af00\">200</span>)            │        <span style=\"color: #00af00; text-decoration-color: #00af00\">40,400</span> │\n",
       "├─────────────────────────────────┼────────────────────────┼───────────────┤\n",
       "│ dense (<span style=\"color: #0087ff; text-decoration-color: #0087ff\">Dense</span>)                   │ (<span style=\"color: #00d7ff; text-decoration-color: #00d7ff\">None</span>, <span style=\"color: #00af00; text-decoration-color: #00af00\">100</span>)            │        <span style=\"color: #00af00; text-decoration-color: #00af00\">20,100</span> │\n",
       "├─────────────────────────────────┼────────────────────────┼───────────────┤\n",
       "│ dense_1 (<span style=\"color: #0087ff; text-decoration-color: #0087ff\">Dense</span>)                 │ (<span style=\"color: #00d7ff; text-decoration-color: #00d7ff\">None</span>, <span style=\"color: #00af00; text-decoration-color: #00af00\">1</span>)              │           <span style=\"color: #00af00; text-decoration-color: #00af00\">101</span> │\n",
       "└─────────────────────────────────┴────────────────────────┴───────────────┘\n",
       "</pre>\n"
      ],
      "text/plain": [
       "┏━━━━━━━━━━━━━━━━━━━━━━━━━━━━━━━━━┳━━━━━━━━━━━━━━━━━━━━━━━━┳━━━━━━━━━━━━━━━┓\n",
       "┃\u001b[1m \u001b[0m\u001b[1mLayer (type)                   \u001b[0m\u001b[1m \u001b[0m┃\u001b[1m \u001b[0m\u001b[1mOutput Shape          \u001b[0m\u001b[1m \u001b[0m┃\u001b[1m \u001b[0m\u001b[1m      Param #\u001b[0m\u001b[1m \u001b[0m┃\n",
       "┡━━━━━━━━━━━━━━━━━━━━━━━━━━━━━━━━━╇━━━━━━━━━━━━━━━━━━━━━━━━╇━━━━━━━━━━━━━━━┩\n",
       "│ simple_rnn (\u001b[38;5;33mSimpleRNN\u001b[0m)          │ (\u001b[38;5;45mNone\u001b[0m, \u001b[38;5;34m200\u001b[0m)            │        \u001b[38;5;34m40,400\u001b[0m │\n",
       "├─────────────────────────────────┼────────────────────────┼───────────────┤\n",
       "│ dense (\u001b[38;5;33mDense\u001b[0m)                   │ (\u001b[38;5;45mNone\u001b[0m, \u001b[38;5;34m100\u001b[0m)            │        \u001b[38;5;34m20,100\u001b[0m │\n",
       "├─────────────────────────────────┼────────────────────────┼───────────────┤\n",
       "│ dense_1 (\u001b[38;5;33mDense\u001b[0m)                 │ (\u001b[38;5;45mNone\u001b[0m, \u001b[38;5;34m1\u001b[0m)              │           \u001b[38;5;34m101\u001b[0m │\n",
       "└─────────────────────────────────┴────────────────────────┴───────────────┘\n"
      ]
     },
     "metadata": {},
     "output_type": "display_data"
    },
    {
     "data": {
      "text/html": [
       "<pre style=\"white-space:pre;overflow-x:auto;line-height:normal;font-family:Menlo,'DejaVu Sans Mono',consolas,'Courier New',monospace\"><span style=\"font-weight: bold\"> Total params: </span><span style=\"color: #00af00; text-decoration-color: #00af00\">60,601</span> (236.72 KB)\n",
       "</pre>\n"
      ],
      "text/plain": [
       "\u001b[1m Total params: \u001b[0m\u001b[38;5;34m60,601\u001b[0m (236.72 KB)\n"
      ]
     },
     "metadata": {},
     "output_type": "display_data"
    },
    {
     "data": {
      "text/html": [
       "<pre style=\"white-space:pre;overflow-x:auto;line-height:normal;font-family:Menlo,'DejaVu Sans Mono',consolas,'Courier New',monospace\"><span style=\"font-weight: bold\"> Trainable params: </span><span style=\"color: #00af00; text-decoration-color: #00af00\">60,601</span> (236.72 KB)\n",
       "</pre>\n"
      ],
      "text/plain": [
       "\u001b[1m Trainable params: \u001b[0m\u001b[38;5;34m60,601\u001b[0m (236.72 KB)\n"
      ]
     },
     "metadata": {},
     "output_type": "display_data"
    },
    {
     "data": {
      "text/html": [
       "<pre style=\"white-space:pre;overflow-x:auto;line-height:normal;font-family:Menlo,'DejaVu Sans Mono',consolas,'Courier New',monospace\"><span style=\"font-weight: bold\"> Non-trainable params: </span><span style=\"color: #00af00; text-decoration-color: #00af00\">0</span> (0.00 B)\n",
       "</pre>\n"
      ],
      "text/plain": [
       "\u001b[1m Non-trainable params: \u001b[0m\u001b[38;5;34m0\u001b[0m (0.00 B)\n"
      ]
     },
     "metadata": {},
     "output_type": "display_data"
    }
   ],
   "source": [
    "import tensorflow as tf  \n",
    "from tensorflow.keras.models import Sequential \n",
    "from tensorflow.keras.layers import SimpleRNN, Dense\n",
    "\n",
    "# 创建模型\n",
    "'''\n",
    "该问题本质是二分类问题，故最后一层全连接层用激活函数为：sigmoid\n",
    "模型结构：\n",
    "    RNN：隐藏层200，激活函数：relu\n",
    "    Dense：--> 100(relu) -> 1(sigmoid)\n",
    "'''\n",
    "# 创建模型\n",
    "model = Sequential()\n",
    "model.add(SimpleRNN(units=200, input_shape=(13, 1), activation='relu'))\n",
    "model.add(Dense(100, activation='relu'))\n",
    "model.add(Dense(1, activation='sigmoid'))\n",
    "\n",
    "model.summary()\n"
   ]
  },
  {
   "cell_type": "code",
   "execution_count": 11,
   "id": "dc19dc7c",
   "metadata": {},
   "outputs": [],
   "source": [
    "opt = tf.keras.optimizers.Adam(learning_rate=1e-4)\n",
    "\n",
    "model.compile(\n",
    "    optimizer=opt,\n",
    "    loss='binary_crossentropy',  # 二分类问题\n",
    "    metrics=['accuracy']\n",
    ")\n"
   ]
  },
  {
   "cell_type": "code",
   "execution_count": 12,
   "id": "a28beac7",
   "metadata": {},
   "outputs": [
    {
     "name": "stdout",
     "output_type": "stream",
     "text": [
      "Epoch 1/100\n"
     ]
    },
    {
     "name": "stderr",
     "output_type": "stream",
     "text": [
      "WARNING: All log messages before absl::InitializeLog() is called are written to STDERR\n",
      "I0000 00:00:1747556485.400315   37695 service.cc:152] XLA service 0x7f6e940067a0 initialized for platform CUDA (this does not guarantee that XLA will be used). Devices:\n",
      "I0000 00:00:1747556485.400349   37695 service.cc:160]   StreamExecutor device (0): Tesla T4, Compute Capability 7.5\n",
      "2025-05-18 16:21:25.445288: I tensorflow/compiler/mlir/tensorflow/utils/dump_mlir_util.cc:269] disabling MLIR crash reproducer, set env var `MLIR_CRASH_REPRODUCER_DIRECTORY` to enable.\n",
      "I0000 00:00:1747556485.655453   37695 cuda_dnn.cc:529] Loaded cuDNN version 91001\n"
     ]
    },
    {
     "name": "stdout",
     "output_type": "stream",
     "text": [
      "\u001b[1m  45/1932\u001b[0m \u001b[37m━━━━━━━━━━━━━━━━━━━━\u001b[0m \u001b[1m6s\u001b[0m 3ms/step - accuracy: 0.6133 - loss: 0.6852"
     ]
    },
    {
     "name": "stderr",
     "output_type": "stream",
     "text": [
      "I0000 00:00:1747556486.564977   37695 device_compiler.h:188] Compiled cluster using XLA!  This line is logged at most once for the lifetime of the process.\n"
     ]
    },
    {
     "name": "stdout",
     "output_type": "stream",
     "text": [
      "\u001b[1m1932/1932\u001b[0m \u001b[32m━━━━━━━━━━━━━━━━━━━━\u001b[0m\u001b[37m\u001b[0m \u001b[1m12s\u001b[0m 5ms/step - accuracy: 0.7061 - loss: 0.5855 - val_accuracy: 0.7238 - val_loss: 0.5570\n",
      "Epoch 2/100\n",
      "\u001b[1m1932/1932\u001b[0m \u001b[32m━━━━━━━━━━━━━━━━━━━━\u001b[0m\u001b[37m\u001b[0m \u001b[1m10s\u001b[0m 5ms/step - accuracy: 0.7301 - loss: 0.5472 - val_accuracy: 0.7216 - val_loss: 0.5599\n",
      "Epoch 3/100\n",
      "\u001b[1m1932/1932\u001b[0m \u001b[32m━━━━━━━━━━━━━━━━━━━━\u001b[0m\u001b[37m\u001b[0m \u001b[1m9s\u001b[0m 5ms/step - accuracy: 0.7321 - loss: 0.5458 - val_accuracy: 0.7286 - val_loss: 0.5540\n",
      "Epoch 4/100\n",
      "\u001b[1m1932/1932\u001b[0m \u001b[32m━━━━━━━━━━━━━━━━━━━━\u001b[0m\u001b[37m\u001b[0m \u001b[1m9s\u001b[0m 4ms/step - accuracy: 0.7355 - loss: 0.5433 - val_accuracy: 0.7243 - val_loss: 0.5594\n",
      "Epoch 5/100\n",
      "\u001b[1m1932/1932\u001b[0m \u001b[32m━━━━━━━━━━━━━━━━━━━━\u001b[0m\u001b[37m\u001b[0m \u001b[1m9s\u001b[0m 5ms/step - accuracy: 0.7377 - loss: 0.5382 - val_accuracy: 0.7286 - val_loss: 0.5524\n",
      "Epoch 6/100\n",
      "\u001b[1m1932/1932\u001b[0m \u001b[32m━━━━━━━━━━━━━━━━━━━━\u001b[0m\u001b[37m\u001b[0m \u001b[1m9s\u001b[0m 4ms/step - accuracy: 0.7331 - loss: 0.5451 - val_accuracy: 0.7282 - val_loss: 0.5552\n",
      "Epoch 7/100\n",
      "\u001b[1m1932/1932\u001b[0m \u001b[32m━━━━━━━━━━━━━━━━━━━━\u001b[0m\u001b[37m\u001b[0m \u001b[1m8s\u001b[0m 4ms/step - accuracy: 0.7376 - loss: 0.5400 - val_accuracy: 0.7275 - val_loss: 0.5511\n",
      "Epoch 8/100\n",
      "\u001b[1m1932/1932\u001b[0m \u001b[32m━━━━━━━━━━━━━━━━━━━━\u001b[0m\u001b[37m\u001b[0m \u001b[1m8s\u001b[0m 4ms/step - accuracy: 0.7345 - loss: 0.5412 - val_accuracy: 0.7281 - val_loss: 0.5531\n",
      "Epoch 9/100\n",
      "\u001b[1m1932/1932\u001b[0m \u001b[32m━━━━━━━━━━━━━━━━━━━━\u001b[0m\u001b[37m\u001b[0m \u001b[1m9s\u001b[0m 4ms/step - accuracy: 0.7349 - loss: 0.5397 - val_accuracy: 0.7305 - val_loss: 0.5525\n",
      "Epoch 10/100\n",
      "\u001b[1m1932/1932\u001b[0m \u001b[32m━━━━━━━━━━━━━━━━━━━━\u001b[0m\u001b[37m\u001b[0m \u001b[1m8s\u001b[0m 4ms/step - accuracy: 0.7352 - loss: 0.5405 - val_accuracy: 0.7295 - val_loss: 0.5526\n",
      "Epoch 11/100\n",
      "\u001b[1m1932/1932\u001b[0m \u001b[32m━━━━━━━━━━━━━━━━━━━━\u001b[0m\u001b[37m\u001b[0m \u001b[1m8s\u001b[0m 4ms/step - accuracy: 0.7369 - loss: 0.5374 - val_accuracy: 0.7295 - val_loss: 0.5504\n",
      "Epoch 12/100\n",
      "\u001b[1m1932/1932\u001b[0m \u001b[32m━━━━━━━━━━━━━━━━━━━━\u001b[0m\u001b[37m\u001b[0m \u001b[1m8s\u001b[0m 4ms/step - accuracy: 0.7349 - loss: 0.5413 - val_accuracy: 0.7311 - val_loss: 0.5517\n",
      "Epoch 13/100\n",
      "\u001b[1m1932/1932\u001b[0m \u001b[32m━━━━━━━━━━━━━━━━━━━━\u001b[0m\u001b[37m\u001b[0m \u001b[1m9s\u001b[0m 4ms/step - accuracy: 0.7398 - loss: 0.5343 - val_accuracy: 0.7262 - val_loss: 0.5506\n",
      "Epoch 14/100\n",
      "\u001b[1m1932/1932\u001b[0m \u001b[32m━━━━━━━━━━━━━━━━━━━━\u001b[0m\u001b[37m\u001b[0m \u001b[1m8s\u001b[0m 4ms/step - accuracy: 0.7375 - loss: 0.5359 - val_accuracy: 0.7299 - val_loss: 0.5505\n",
      "Epoch 15/100\n",
      "\u001b[1m1932/1932\u001b[0m \u001b[32m━━━━━━━━━━━━━━━━━━━━\u001b[0m\u001b[37m\u001b[0m \u001b[1m8s\u001b[0m 4ms/step - accuracy: 0.7396 - loss: 0.5354 - val_accuracy: 0.7251 - val_loss: 0.5551\n",
      "Epoch 16/100\n",
      "\u001b[1m1932/1932\u001b[0m \u001b[32m━━━━━━━━━━━━━━━━━━━━\u001b[0m\u001b[37m\u001b[0m \u001b[1m8s\u001b[0m 4ms/step - accuracy: 0.7383 - loss: 0.5359 - val_accuracy: 0.7286 - val_loss: 0.5527\n",
      "Epoch 17/100\n",
      "\u001b[1m1932/1932\u001b[0m \u001b[32m━━━━━━━━━━━━━━━━━━━━\u001b[0m\u001b[37m\u001b[0m \u001b[1m8s\u001b[0m 4ms/step - accuracy: 0.7435 - loss: 0.5307 - val_accuracy: 0.7334 - val_loss: 0.5493\n",
      "Epoch 18/100\n",
      "\u001b[1m1932/1932\u001b[0m \u001b[32m━━━━━━━━━━━━━━━━━━━━\u001b[0m\u001b[37m\u001b[0m \u001b[1m8s\u001b[0m 4ms/step - accuracy: 0.7384 - loss: 0.5354 - val_accuracy: 0.7283 - val_loss: 0.5520\n",
      "Epoch 19/100\n",
      "\u001b[1m1932/1932\u001b[0m \u001b[32m━━━━━━━━━━━━━━━━━━━━\u001b[0m\u001b[37m\u001b[0m \u001b[1m8s\u001b[0m 4ms/step - accuracy: 0.7404 - loss: 0.5342 - val_accuracy: 0.7262 - val_loss: 0.5537\n",
      "Epoch 20/100\n",
      "\u001b[1m1932/1932\u001b[0m \u001b[32m━━━━━━━━━━━━━━━━━━━━\u001b[0m\u001b[37m\u001b[0m \u001b[1m9s\u001b[0m 5ms/step - accuracy: 0.7399 - loss: 0.5316 - val_accuracy: 0.7278 - val_loss: 0.5548\n",
      "Epoch 21/100\n",
      "\u001b[1m1932/1932\u001b[0m \u001b[32m━━━━━━━━━━━━━━━━━━━━\u001b[0m\u001b[37m\u001b[0m \u001b[1m10s\u001b[0m 5ms/step - accuracy: 0.7417 - loss: 0.5306 - val_accuracy: 0.7279 - val_loss: 0.5535\n",
      "Epoch 22/100\n",
      "\u001b[1m1932/1932\u001b[0m \u001b[32m━━━━━━━━━━━━━━━━━━━━\u001b[0m\u001b[37m\u001b[0m \u001b[1m9s\u001b[0m 4ms/step - accuracy: 0.7437 - loss: 0.5316 - val_accuracy: 0.7269 - val_loss: 0.5501\n",
      "Epoch 23/100\n",
      "\u001b[1m1932/1932\u001b[0m \u001b[32m━━━━━━━━━━━━━━━━━━━━\u001b[0m\u001b[37m\u001b[0m \u001b[1m9s\u001b[0m 5ms/step - accuracy: 0.7390 - loss: 0.5343 - val_accuracy: 0.7273 - val_loss: 0.5510\n",
      "Epoch 24/100\n",
      "\u001b[1m1932/1932\u001b[0m \u001b[32m━━━━━━━━━━━━━━━━━━━━\u001b[0m\u001b[37m\u001b[0m \u001b[1m10s\u001b[0m 5ms/step - accuracy: 0.7431 - loss: 0.5304 - val_accuracy: 0.7298 - val_loss: 0.5533\n",
      "Epoch 25/100\n",
      "\u001b[1m1932/1932\u001b[0m \u001b[32m━━━━━━━━━━━━━━━━━━━━\u001b[0m\u001b[37m\u001b[0m \u001b[1m9s\u001b[0m 5ms/step - accuracy: 0.7429 - loss: 0.5295 - val_accuracy: 0.7285 - val_loss: 0.5507\n",
      "Epoch 26/100\n",
      "\u001b[1m1932/1932\u001b[0m \u001b[32m━━━━━━━━━━━━━━━━━━━━\u001b[0m\u001b[37m\u001b[0m \u001b[1m10s\u001b[0m 5ms/step - accuracy: 0.7412 - loss: 0.5309 - val_accuracy: 0.7299 - val_loss: 0.5515\n",
      "Epoch 27/100\n",
      "\u001b[1m1932/1932\u001b[0m \u001b[32m━━━━━━━━━━━━━━━━━━━━\u001b[0m\u001b[37m\u001b[0m \u001b[1m10s\u001b[0m 5ms/step - accuracy: 0.7408 - loss: 0.5300 - val_accuracy: 0.7273 - val_loss: 0.5522\n",
      "Epoch 28/100\n",
      "\u001b[1m1932/1932\u001b[0m \u001b[32m━━━━━━━━━━━━━━━━━━━━\u001b[0m\u001b[37m\u001b[0m \u001b[1m9s\u001b[0m 5ms/step - accuracy: 0.7431 - loss: 0.5292 - val_accuracy: 0.7285 - val_loss: 0.5527\n",
      "Epoch 29/100\n",
      "\u001b[1m1932/1932\u001b[0m \u001b[32m━━━━━━━━━━━━━━━━━━━━\u001b[0m\u001b[37m\u001b[0m \u001b[1m8s\u001b[0m 4ms/step - accuracy: 0.7416 - loss: 0.5307 - val_accuracy: 0.7275 - val_loss: 0.5542\n",
      "Epoch 30/100\n",
      "\u001b[1m1932/1932\u001b[0m \u001b[32m━━━━━━━━━━━━━━━━━━━━\u001b[0m\u001b[37m\u001b[0m \u001b[1m8s\u001b[0m 4ms/step - accuracy: 0.7400 - loss: 0.5325 - val_accuracy: 0.7266 - val_loss: 0.5560\n",
      "Epoch 31/100\n",
      "\u001b[1m1932/1932\u001b[0m \u001b[32m━━━━━━━━━━━━━━━━━━━━\u001b[0m\u001b[37m\u001b[0m \u001b[1m8s\u001b[0m 4ms/step - accuracy: 0.7460 - loss: 0.5265 - val_accuracy: 0.7318 - val_loss: 0.5533\n",
      "Epoch 32/100\n",
      "\u001b[1m1932/1932\u001b[0m \u001b[32m━━━━━━━━━━━━━━━━━━━━\u001b[0m\u001b[37m\u001b[0m \u001b[1m8s\u001b[0m 4ms/step - accuracy: 0.7420 - loss: 0.5284 - val_accuracy: 0.7279 - val_loss: 0.5538\n",
      "Epoch 33/100\n",
      "\u001b[1m1932/1932\u001b[0m \u001b[32m━━━━━━━━━━━━━━━━━━━━\u001b[0m\u001b[37m\u001b[0m \u001b[1m8s\u001b[0m 4ms/step - accuracy: 0.7448 - loss: 0.5270 - val_accuracy: 0.7278 - val_loss: 0.5527\n",
      "Epoch 34/100\n",
      "\u001b[1m1932/1932\u001b[0m \u001b[32m━━━━━━━━━━━━━━━━━━━━\u001b[0m\u001b[37m\u001b[0m \u001b[1m8s\u001b[0m 4ms/step - accuracy: 0.7437 - loss: 0.5250 - val_accuracy: 0.7294 - val_loss: 0.5529\n",
      "Epoch 35/100\n",
      "\u001b[1m1932/1932\u001b[0m \u001b[32m━━━━━━━━━━━━━━━━━━━━\u001b[0m\u001b[37m\u001b[0m \u001b[1m9s\u001b[0m 5ms/step - accuracy: 0.7445 - loss: 0.5264 - val_accuracy: 0.7263 - val_loss: 0.5557\n",
      "Epoch 36/100\n",
      "\u001b[1m1932/1932\u001b[0m \u001b[32m━━━━━━━━━━━━━━━━━━━━\u001b[0m\u001b[37m\u001b[0m \u001b[1m9s\u001b[0m 5ms/step - accuracy: 0.7484 - loss: 0.5224 - val_accuracy: 0.7237 - val_loss: 0.5561\n",
      "Epoch 37/100\n",
      "\u001b[1m1932/1932\u001b[0m \u001b[32m━━━━━━━━━━━━━━━━━━━━\u001b[0m\u001b[37m\u001b[0m \u001b[1m9s\u001b[0m 5ms/step - accuracy: 0.7492 - loss: 0.5211 - val_accuracy: 0.7221 - val_loss: 0.5623\n",
      "Epoch 38/100\n",
      "\u001b[1m1932/1932\u001b[0m \u001b[32m━━━━━━━━━━━━━━━━━━━━\u001b[0m\u001b[37m\u001b[0m \u001b[1m9s\u001b[0m 5ms/step - accuracy: 0.7461 - loss: 0.5232 - val_accuracy: 0.7285 - val_loss: 0.5545\n",
      "Epoch 39/100\n",
      "\u001b[1m1932/1932\u001b[0m \u001b[32m━━━━━━━━━━━━━━━━━━━━\u001b[0m\u001b[37m\u001b[0m \u001b[1m9s\u001b[0m 5ms/step - accuracy: 0.7491 - loss: 0.5215 - val_accuracy: 0.7253 - val_loss: 0.5556\n",
      "Epoch 40/100\n",
      "\u001b[1m1932/1932\u001b[0m \u001b[32m━━━━━━━━━━━━━━━━━━━━\u001b[0m\u001b[37m\u001b[0m \u001b[1m9s\u001b[0m 5ms/step - accuracy: 0.7470 - loss: 0.5225 - val_accuracy: 0.7244 - val_loss: 0.5632\n",
      "Epoch 41/100\n",
      "\u001b[1m1932/1932\u001b[0m \u001b[32m━━━━━━━━━━━━━━━━━━━━\u001b[0m\u001b[37m\u001b[0m \u001b[1m9s\u001b[0m 5ms/step - accuracy: 0.7490 - loss: 0.5199 - val_accuracy: 0.7235 - val_loss: 0.5550\n",
      "Epoch 42/100\n",
      "\u001b[1m1932/1932\u001b[0m \u001b[32m━━━━━━━━━━━━━━━━━━━━\u001b[0m\u001b[37m\u001b[0m \u001b[1m9s\u001b[0m 5ms/step - accuracy: 0.7476 - loss: 0.5194 - val_accuracy: 0.7279 - val_loss: 0.5572\n",
      "Epoch 43/100\n",
      "\u001b[1m1932/1932\u001b[0m \u001b[32m━━━━━━━━━━━━━━━━━━━━\u001b[0m\u001b[37m\u001b[0m \u001b[1m9s\u001b[0m 5ms/step - accuracy: 0.7463 - loss: 0.5219 - val_accuracy: 0.7276 - val_loss: 0.5573\n",
      "Epoch 44/100\n",
      "\u001b[1m1932/1932\u001b[0m \u001b[32m━━━━━━━━━━━━━━━━━━━━\u001b[0m\u001b[37m\u001b[0m \u001b[1m9s\u001b[0m 5ms/step - accuracy: 0.7482 - loss: 0.5167 - val_accuracy: 0.7275 - val_loss: 0.5606\n",
      "Epoch 45/100\n",
      "\u001b[1m1932/1932\u001b[0m \u001b[32m━━━━━━━━━━━━━━━━━━━━\u001b[0m\u001b[37m\u001b[0m \u001b[1m9s\u001b[0m 4ms/step - accuracy: 0.7491 - loss: 0.5160 - val_accuracy: 0.7256 - val_loss: 0.5589\n",
      "Epoch 46/100\n",
      "\u001b[1m1932/1932\u001b[0m \u001b[32m━━━━━━━━━━━━━━━━━━━━\u001b[0m\u001b[37m\u001b[0m \u001b[1m8s\u001b[0m 4ms/step - accuracy: 0.7501 - loss: 0.5152 - val_accuracy: 0.7266 - val_loss: 0.5628\n",
      "Epoch 47/100\n",
      "\u001b[1m1932/1932\u001b[0m \u001b[32m━━━━━━━━━━━━━━━━━━━━\u001b[0m\u001b[37m\u001b[0m \u001b[1m8s\u001b[0m 4ms/step - accuracy: 0.7485 - loss: 0.5183 - val_accuracy: 0.7218 - val_loss: 0.5604\n",
      "Epoch 48/100\n",
      "\u001b[1m1932/1932\u001b[0m \u001b[32m━━━━━━━━━━━━━━━━━━━━\u001b[0m\u001b[37m\u001b[0m \u001b[1m8s\u001b[0m 4ms/step - accuracy: 0.7503 - loss: 0.5174 - val_accuracy: 0.7227 - val_loss: 0.5651\n",
      "Epoch 49/100\n",
      "\u001b[1m1932/1932\u001b[0m \u001b[32m━━━━━━━━━━━━━━━━━━━━\u001b[0m\u001b[37m\u001b[0m \u001b[1m8s\u001b[0m 4ms/step - accuracy: 0.7520 - loss: 0.5135 - val_accuracy: 0.7246 - val_loss: 0.5607\n",
      "Epoch 50/100\n",
      "\u001b[1m1932/1932\u001b[0m \u001b[32m━━━━━━━━━━━━━━━━━━━━\u001b[0m\u001b[37m\u001b[0m \u001b[1m8s\u001b[0m 4ms/step - accuracy: 0.7494 - loss: 0.5152 - val_accuracy: 0.7208 - val_loss: 0.5658\n",
      "Epoch 51/100\n",
      "\u001b[1m1932/1932\u001b[0m \u001b[32m━━━━━━━━━━━━━━━━━━━━\u001b[0m\u001b[37m\u001b[0m \u001b[1m9s\u001b[0m 5ms/step - accuracy: 0.7528 - loss: 0.5099 - val_accuracy: 0.7219 - val_loss: 0.5687\n",
      "Epoch 52/100\n",
      "\u001b[1m1932/1932\u001b[0m \u001b[32m━━━━━━━━━━━━━━━━━━━━\u001b[0m\u001b[37m\u001b[0m \u001b[1m9s\u001b[0m 5ms/step - accuracy: 0.7561 - loss: 0.5090 - val_accuracy: 0.7234 - val_loss: 0.5651\n",
      "Epoch 53/100\n",
      "\u001b[1m1932/1932\u001b[0m \u001b[32m━━━━━━━━━━━━━━━━━━━━\u001b[0m\u001b[37m\u001b[0m \u001b[1m9s\u001b[0m 5ms/step - accuracy: 0.7530 - loss: 0.5115 - val_accuracy: 0.7221 - val_loss: 0.5686\n",
      "Epoch 54/100\n",
      "\u001b[1m1932/1932\u001b[0m \u001b[32m━━━━━━━━━━━━━━━━━━━━\u001b[0m\u001b[37m\u001b[0m \u001b[1m9s\u001b[0m 5ms/step - accuracy: 0.7553 - loss: 0.5080 - val_accuracy: 0.7250 - val_loss: 0.5674\n",
      "Epoch 55/100\n",
      "\u001b[1m1932/1932\u001b[0m \u001b[32m━━━━━━━━━━━━━━━━━━━━\u001b[0m\u001b[37m\u001b[0m \u001b[1m9s\u001b[0m 5ms/step - accuracy: 0.7575 - loss: 0.5067 - val_accuracy: 0.7198 - val_loss: 0.5696\n",
      "Epoch 56/100\n",
      "\u001b[1m1932/1932\u001b[0m \u001b[32m━━━━━━━━━━━━━━━━━━━━\u001b[0m\u001b[37m\u001b[0m \u001b[1m9s\u001b[0m 5ms/step - accuracy: 0.7568 - loss: 0.5074 - val_accuracy: 0.7205 - val_loss: 0.5685\n",
      "Epoch 57/100\n",
      "\u001b[1m1932/1932\u001b[0m \u001b[32m━━━━━━━━━━━━━━━━━━━━\u001b[0m\u001b[37m\u001b[0m \u001b[1m9s\u001b[0m 5ms/step - accuracy: 0.7548 - loss: 0.5079 - val_accuracy: 0.7216 - val_loss: 0.5729\n",
      "Epoch 58/100\n",
      "\u001b[1m1932/1932\u001b[0m \u001b[32m━━━━━━━━━━━━━━━━━━━━\u001b[0m\u001b[37m\u001b[0m \u001b[1m9s\u001b[0m 5ms/step - accuracy: 0.7569 - loss: 0.5027 - val_accuracy: 0.7167 - val_loss: 0.5726\n",
      "Epoch 59/100\n",
      "\u001b[1m1932/1932\u001b[0m \u001b[32m━━━━━━━━━━━━━━━━━━━━\u001b[0m\u001b[37m\u001b[0m \u001b[1m9s\u001b[0m 5ms/step - accuracy: 0.7607 - loss: 0.5007 - val_accuracy: 0.7218 - val_loss: 0.5732\n",
      "Epoch 60/100\n",
      "\u001b[1m1932/1932\u001b[0m \u001b[32m━━━━━━━━━━━━━━━━━━━━\u001b[0m\u001b[37m\u001b[0m \u001b[1m9s\u001b[0m 5ms/step - accuracy: 0.7598 - loss: 0.5015 - val_accuracy: 0.7209 - val_loss: 0.5710\n",
      "Epoch 61/100\n",
      "\u001b[1m1932/1932\u001b[0m \u001b[32m━━━━━━━━━━━━━━━━━━━━\u001b[0m\u001b[37m\u001b[0m \u001b[1m8s\u001b[0m 4ms/step - accuracy: 0.7608 - loss: 0.4968 - val_accuracy: 0.7160 - val_loss: 0.5739\n",
      "Epoch 62/100\n",
      "\u001b[1m1932/1932\u001b[0m \u001b[32m━━━━━━━━━━━━━━━━━━━━\u001b[0m\u001b[37m\u001b[0m \u001b[1m8s\u001b[0m 4ms/step - accuracy: 0.7577 - loss: 0.5020 - val_accuracy: 0.7183 - val_loss: 0.5817\n",
      "Epoch 63/100\n",
      "\u001b[1m1932/1932\u001b[0m \u001b[32m━━━━━━━━━━━━━━━━━━━━\u001b[0m\u001b[37m\u001b[0m \u001b[1m8s\u001b[0m 4ms/step - accuracy: 0.7604 - loss: 0.4988 - val_accuracy: 0.7154 - val_loss: 0.5841\n",
      "Epoch 64/100\n",
      "\u001b[1m1932/1932\u001b[0m \u001b[32m━━━━━━━━━━━━━━━━━━━━\u001b[0m\u001b[37m\u001b[0m \u001b[1m8s\u001b[0m 4ms/step - accuracy: 0.7595 - loss: 0.4976 - val_accuracy: 0.7187 - val_loss: 0.5813\n",
      "Epoch 65/100\n",
      "\u001b[1m1932/1932\u001b[0m \u001b[32m━━━━━━━━━━━━━━━━━━━━\u001b[0m\u001b[37m\u001b[0m \u001b[1m8s\u001b[0m 4ms/step - accuracy: 0.7612 - loss: 0.4965 - val_accuracy: 0.7160 - val_loss: 0.5878\n",
      "Epoch 66/100\n",
      "\u001b[1m1932/1932\u001b[0m \u001b[32m━━━━━━━━━━━━━━━━━━━━\u001b[0m\u001b[37m\u001b[0m \u001b[1m9s\u001b[0m 5ms/step - accuracy: 0.7609 - loss: 0.4954 - val_accuracy: 0.7117 - val_loss: 0.5850\n",
      "Epoch 67/100\n",
      "\u001b[1m1932/1932\u001b[0m \u001b[32m━━━━━━━━━━━━━━━━━━━━\u001b[0m\u001b[37m\u001b[0m \u001b[1m9s\u001b[0m 5ms/step - accuracy: 0.7616 - loss: 0.4926 - val_accuracy: 0.7171 - val_loss: 0.5874\n",
      "Epoch 68/100\n",
      "\u001b[1m1932/1932\u001b[0m \u001b[32m━━━━━━━━━━━━━━━━━━━━\u001b[0m\u001b[37m\u001b[0m \u001b[1m9s\u001b[0m 5ms/step - accuracy: 0.7651 - loss: 0.4902 - val_accuracy: 0.7142 - val_loss: 0.5857\n",
      "Epoch 69/100\n",
      "\u001b[1m1932/1932\u001b[0m \u001b[32m━━━━━━━━━━━━━━━━━━━━\u001b[0m\u001b[37m\u001b[0m \u001b[1m9s\u001b[0m 5ms/step - accuracy: 0.7643 - loss: 0.4901 - val_accuracy: 0.7190 - val_loss: 0.5931\n",
      "Epoch 70/100\n",
      "\u001b[1m1932/1932\u001b[0m \u001b[32m━━━━━━━━━━━━━━━━━━━━\u001b[0m\u001b[37m\u001b[0m \u001b[1m9s\u001b[0m 5ms/step - accuracy: 0.7620 - loss: 0.4908 - val_accuracy: 0.7123 - val_loss: 0.5932\n",
      "Epoch 71/100\n",
      "\u001b[1m1932/1932\u001b[0m \u001b[32m━━━━━━━━━━━━━━━━━━━━\u001b[0m\u001b[37m\u001b[0m \u001b[1m9s\u001b[0m 5ms/step - accuracy: 0.7670 - loss: 0.4875 - val_accuracy: 0.7154 - val_loss: 0.5943\n",
      "Epoch 72/100\n",
      "\u001b[1m1932/1932\u001b[0m \u001b[32m━━━━━━━━━━━━━━━━━━━━\u001b[0m\u001b[37m\u001b[0m \u001b[1m9s\u001b[0m 5ms/step - accuracy: 0.7655 - loss: 0.4857 - val_accuracy: 0.7091 - val_loss: 0.6014\n",
      "Epoch 73/100\n",
      "\u001b[1m1932/1932\u001b[0m \u001b[32m━━━━━━━━━━━━━━━━━━━━\u001b[0m\u001b[37m\u001b[0m \u001b[1m9s\u001b[0m 5ms/step - accuracy: 0.7673 - loss: 0.4818 - val_accuracy: 0.7090 - val_loss: 0.6056\n",
      "Epoch 74/100\n",
      "\u001b[1m1932/1932\u001b[0m \u001b[32m━━━━━━━━━━━━━━━━━━━━\u001b[0m\u001b[37m\u001b[0m \u001b[1m9s\u001b[0m 5ms/step - accuracy: 0.7705 - loss: 0.4806 - val_accuracy: 0.7133 - val_loss: 0.6032\n",
      "Epoch 75/100\n",
      "\u001b[1m1932/1932\u001b[0m \u001b[32m━━━━━━━━━━━━━━━━━━━━\u001b[0m\u001b[37m\u001b[0m \u001b[1m9s\u001b[0m 5ms/step - accuracy: 0.7656 - loss: 0.4830 - val_accuracy: 0.7109 - val_loss: 0.6036\n",
      "Epoch 76/100\n",
      "\u001b[1m1932/1932\u001b[0m \u001b[32m━━━━━━━━━━━━━━━━━━━━\u001b[0m\u001b[37m\u001b[0m \u001b[1m9s\u001b[0m 4ms/step - accuracy: 0.7708 - loss: 0.4793 - val_accuracy: 0.7049 - val_loss: 0.6080\n",
      "Epoch 77/100\n",
      "\u001b[1m1932/1932\u001b[0m \u001b[32m━━━━━━━━━━━━━━━━━━━━\u001b[0m\u001b[37m\u001b[0m \u001b[1m8s\u001b[0m 4ms/step - accuracy: 0.7708 - loss: 0.4760 - val_accuracy: 0.7103 - val_loss: 0.6056\n",
      "Epoch 78/100\n",
      "\u001b[1m1932/1932\u001b[0m \u001b[32m━━━━━━━━━━━━━━━━━━━━\u001b[0m\u001b[37m\u001b[0m \u001b[1m8s\u001b[0m 4ms/step - accuracy: 0.7711 - loss: 0.4757 - val_accuracy: 0.7186 - val_loss: 0.6145\n",
      "Epoch 79/100\n",
      "\u001b[1m1932/1932\u001b[0m \u001b[32m━━━━━━━━━━━━━━━━━━━━\u001b[0m\u001b[37m\u001b[0m \u001b[1m8s\u001b[0m 4ms/step - accuracy: 0.7738 - loss: 0.4690 - val_accuracy: 0.7155 - val_loss: 0.6099\n",
      "Epoch 80/100\n",
      "\u001b[1m1932/1932\u001b[0m \u001b[32m━━━━━━━━━━━━━━━━━━━━\u001b[0m\u001b[37m\u001b[0m \u001b[1m8s\u001b[0m 4ms/step - accuracy: 0.7705 - loss: 0.4742 - val_accuracy: 0.7104 - val_loss: 0.6133\n",
      "Epoch 81/100\n",
      "\u001b[1m1932/1932\u001b[0m \u001b[32m━━━━━━━━━━━━━━━━━━━━\u001b[0m\u001b[37m\u001b[0m \u001b[1m8s\u001b[0m 4ms/step - accuracy: 0.7754 - loss: 0.4707 - val_accuracy: 0.7075 - val_loss: 0.6155\n",
      "Epoch 82/100\n",
      "\u001b[1m1932/1932\u001b[0m \u001b[32m━━━━━━━━━━━━━━━━━━━━\u001b[0m\u001b[37m\u001b[0m \u001b[1m9s\u001b[0m 5ms/step - accuracy: 0.7745 - loss: 0.4691 - val_accuracy: 0.7110 - val_loss: 0.6234\n",
      "Epoch 83/100\n",
      "\u001b[1m1932/1932\u001b[0m \u001b[32m━━━━━━━━━━━━━━━━━━━━\u001b[0m\u001b[37m\u001b[0m \u001b[1m9s\u001b[0m 5ms/step - accuracy: 0.7757 - loss: 0.4686 - val_accuracy: 0.7093 - val_loss: 0.6281\n",
      "Epoch 84/100\n",
      "\u001b[1m1932/1932\u001b[0m \u001b[32m━━━━━━━━━━━━━━━━━━━━\u001b[0m\u001b[37m\u001b[0m \u001b[1m9s\u001b[0m 5ms/step - accuracy: 0.7746 - loss: 0.4678 - val_accuracy: 0.7158 - val_loss: 0.6376\n",
      "Epoch 85/100\n",
      "\u001b[1m1932/1932\u001b[0m \u001b[32m━━━━━━━━━━━━━━━━━━━━\u001b[0m\u001b[37m\u001b[0m \u001b[1m9s\u001b[0m 5ms/step - accuracy: 0.7781 - loss: 0.4620 - val_accuracy: 0.7136 - val_loss: 0.6298\n",
      "Epoch 86/100\n",
      "\u001b[1m1932/1932\u001b[0m \u001b[32m━━━━━━━━━━━━━━━━━━━━\u001b[0m\u001b[37m\u001b[0m \u001b[1m9s\u001b[0m 5ms/step - accuracy: 0.7776 - loss: 0.4640 - val_accuracy: 0.7058 - val_loss: 0.6315\n",
      "Epoch 87/100\n",
      "\u001b[1m1932/1932\u001b[0m \u001b[32m━━━━━━━━━━━━━━━━━━━━\u001b[0m\u001b[37m\u001b[0m \u001b[1m9s\u001b[0m 5ms/step - accuracy: 0.7832 - loss: 0.4576 - val_accuracy: 0.7148 - val_loss: 0.6399\n",
      "Epoch 88/100\n",
      "\u001b[1m1932/1932\u001b[0m \u001b[32m━━━━━━━━━━━━━━━━━━━━\u001b[0m\u001b[37m\u001b[0m \u001b[1m9s\u001b[0m 5ms/step - accuracy: 0.7819 - loss: 0.4608 - val_accuracy: 0.7036 - val_loss: 0.6377\n",
      "Epoch 89/100\n",
      "\u001b[1m1932/1932\u001b[0m \u001b[32m━━━━━━━━━━━━━━━━━━━━\u001b[0m\u001b[37m\u001b[0m \u001b[1m9s\u001b[0m 5ms/step - accuracy: 0.7784 - loss: 0.4604 - val_accuracy: 0.7065 - val_loss: 0.6403\n",
      "Epoch 90/100\n",
      "\u001b[1m1932/1932\u001b[0m \u001b[32m━━━━━━━━━━━━━━━━━━━━\u001b[0m\u001b[37m\u001b[0m \u001b[1m9s\u001b[0m 5ms/step - accuracy: 0.7829 - loss: 0.4554 - val_accuracy: 0.7059 - val_loss: 0.6472\n",
      "Epoch 91/100\n",
      "\u001b[1m1932/1932\u001b[0m \u001b[32m━━━━━━━━━━━━━━━━━━━━\u001b[0m\u001b[37m\u001b[0m \u001b[1m9s\u001b[0m 5ms/step - accuracy: 0.7846 - loss: 0.4510 - val_accuracy: 0.7072 - val_loss: 0.6454\n",
      "Epoch 92/100\n",
      "\u001b[1m1932/1932\u001b[0m \u001b[32m━━━━━━━━━━━━━━━━━━━━\u001b[0m\u001b[37m\u001b[0m \u001b[1m8s\u001b[0m 4ms/step - accuracy: 0.7872 - loss: 0.4497 - val_accuracy: 0.7090 - val_loss: 0.6539\n",
      "Epoch 93/100\n",
      "\u001b[1m1932/1932\u001b[0m \u001b[32m━━━━━━━━━━━━━━━━━━━━\u001b[0m\u001b[37m\u001b[0m \u001b[1m8s\u001b[0m 4ms/step - accuracy: 0.7839 - loss: 0.4532 - val_accuracy: 0.7020 - val_loss: 0.6500\n",
      "Epoch 94/100\n",
      "\u001b[1m1932/1932\u001b[0m \u001b[32m━━━━━━━━━━━━━━━━━━━━\u001b[0m\u001b[37m\u001b[0m \u001b[1m8s\u001b[0m 4ms/step - accuracy: 0.7847 - loss: 0.4490 - val_accuracy: 0.7046 - val_loss: 0.6493\n",
      "Epoch 95/100\n",
      "\u001b[1m1932/1932\u001b[0m \u001b[32m━━━━━━━━━━━━━━━━━━━━\u001b[0m\u001b[37m\u001b[0m \u001b[1m8s\u001b[0m 4ms/step - accuracy: 0.7862 - loss: 0.4489 - val_accuracy: 0.7087 - val_loss: 0.6587\n",
      "Epoch 96/100\n",
      "\u001b[1m1932/1932\u001b[0m \u001b[32m━━━━━━━━━━━━━━━━━━━━\u001b[0m\u001b[37m\u001b[0m \u001b[1m8s\u001b[0m 4ms/step - accuracy: 0.7853 - loss: 0.4476 - val_accuracy: 0.7087 - val_loss: 0.6611\n",
      "Epoch 97/100\n",
      "\u001b[1m1932/1932\u001b[0m \u001b[32m━━━━━━━━━━━━━━━━━━━━\u001b[0m\u001b[37m\u001b[0m \u001b[1m9s\u001b[0m 4ms/step - accuracy: 0.7891 - loss: 0.4403 - val_accuracy: 0.7017 - val_loss: 0.6648\n",
      "Epoch 98/100\n",
      "\u001b[1m1932/1932\u001b[0m \u001b[32m━━━━━━━━━━━━━━━━━━━━\u001b[0m\u001b[37m\u001b[0m \u001b[1m9s\u001b[0m 5ms/step - accuracy: 0.7866 - loss: 0.4452 - val_accuracy: 0.7104 - val_loss: 0.6703\n",
      "Epoch 99/100\n",
      "\u001b[1m1932/1932\u001b[0m \u001b[32m━━━━━━━━━━━━━━━━━━━━\u001b[0m\u001b[37m\u001b[0m \u001b[1m9s\u001b[0m 5ms/step - accuracy: 0.7908 - loss: 0.4393 - val_accuracy: 0.7036 - val_loss: 0.6740\n",
      "Epoch 100/100\n",
      "\u001b[1m1932/1932\u001b[0m \u001b[32m━━━━━━━━━━━━━━━━━━━━\u001b[0m\u001b[37m\u001b[0m \u001b[1m9s\u001b[0m 5ms/step - accuracy: 0.7881 - loss: 0.4412 - val_accuracy: 0.7119 - val_loss: 0.6846\n"
     ]
    }
   ],
   "source": [
    "epochs = 100\n",
    "\n",
    "history = model.fit(\n",
    "    X_train, y_train,\n",
    "    epochs=epochs,\n",
    "    batch_size=32,\n",
    "    validation_data=(X_test, y_test),\n",
    "    verbose=1\n",
    ")\n"
   ]
  },
  {
   "cell_type": "code",
   "execution_count": 13,
   "id": "77b3b609",
   "metadata": {},
   "outputs": [
    {
     "name": "stdout",
     "output_type": "stream",
     "text": [
      "socre[loss, accuracy]:  [0.684647798538208, 0.7118940353393555]\n"
     ]
    }
   ],
   "source": [
    "# 评估：返回的是自己在model.compile中设置，这里为accuracy\n",
    "score = model.evaluate(X_test, y_test, verbose=0)\n",
    "print(\"socre[loss, accuracy]: \", score) # 返回为两个，一个是loss，一个是accuracy\n"
   ]
  }
 ],
 "metadata": {
  "kernelspec": {
   "display_name": "Python 3 (ipykernel)",
   "language": "python",
   "name": "python3"
  },
  "language_info": {
   "codemirror_mode": {
    "name": "ipython",
    "version": 3
   },
   "file_extension": ".py",
   "mimetype": "text/x-python",
   "name": "python",
   "nbconvert_exporter": "python",
   "pygments_lexer": "ipython3",
   "version": "3.10.12"
  }
 },
 "nbformat": 4,
 "nbformat_minor": 5
}
