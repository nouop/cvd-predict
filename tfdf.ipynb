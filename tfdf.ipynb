{
 "cells": [
  {
   "cell_type": "code",
   "execution_count": null,
   "id": "494da754",
   "metadata": {},
   "outputs": [],
   "source": [
    "# !nvidia-smi\n",
    "# !nvcc -V\n",
    "import tensorflow as tf\n",
    "gpus = tf.config.list_physical_devices('GPU')\n",
    "print(f\"Num GPUs Available: {len(gpus)}\")\n",
    "if gpus:\n",
    "  try:\n",
    "    # 打印每个 GPU 的详细信息 (可选)\n",
    "    for gpu in gpus:\n",
    "      print(f\"Name: {gpu.name}, Type: {gpu.device_type}\")\n",
    "    # 尝试在 GPU 上执行简单操作 (确保运行时能分配显存)\n",
    "    tf.random.set_seed(1234)\n",
    "    a = tf.random.normal((2,2))\n",
    "    b = tf.random.normal((2,2))\n",
    "    c = tf.matmul(a, b)\n",
    "    print(\"TensorFlow GPU computation successful.\")\n",
    "  except RuntimeError as e:\n",
    "    print(e)\n",
    "else:\n",
    "    print(\"TensorFlow cannot find any GPU device.\")\n",
    "print(f\"TensorFlow version: {tf.__version__}\")\n",
    "quit()\n"
   ]
  },
  {
   "cell_type": "code",
   "execution_count": null,
   "id": "e06c0ec7",
   "metadata": {},
   "outputs": [],
   "source": [
    "!wget https://developer.download.nvidia.com/compute/cuda/repos/ubuntu2204/x86_64/cuda-keyring_1.1-1_all.deb\n",
    "!dpkg -i cuda-keyring_1.1-1_all.deb\n",
    "!apt-get update\n",
    "!apt-get -y install cudnn"
   ]
  },
  {
   "cell_type": "code",
   "execution_count": null,
   "id": "4d463a6b",
   "metadata": {},
   "outputs": [],
   "source": [
    "%pip install numpy\n",
    "%pip install ydf\n",
    "%pip install tf_keras\n",
    "%pip install tensoflow\n",
    "%pip install pandas"
   ]
  },
  {
   "cell_type": "code",
   "execution_count": 1,
   "id": "9bf82cc5",
   "metadata": {},
   "outputs": [
    {
     "name": "stderr",
     "output_type": "stream",
     "text": [
      "/Users/mark/数学建模/cvd_ydf/.conda/lib/python3.11/site-packages/google/protobuf/runtime_version.py:98: UserWarning: Protobuf gencode version 5.29.1 is exactly one major version older than the runtime version 6.31.0 at yggdrasil_decision_forests/dataset/data_spec.proto. Please update the gencode to avoid compatibility violations in the next runtime release.\n",
      "  warnings.warn(\n",
      "/Users/mark/数学建模/cvd_ydf/.conda/lib/python3.11/site-packages/google/protobuf/runtime_version.py:98: UserWarning: Protobuf gencode version 5.29.1 is exactly one major version older than the runtime version 6.31.0 at yggdrasil_decision_forests/dataset/weight.proto. Please update the gencode to avoid compatibility violations in the next runtime release.\n",
      "  warnings.warn(\n",
      "/Users/mark/数学建模/cvd_ydf/.conda/lib/python3.11/site-packages/google/protobuf/runtime_version.py:98: UserWarning: Protobuf gencode version 5.29.1 is exactly one major version older than the runtime version 6.31.0 at yggdrasil_decision_forests/learner/abstract_learner.proto. Please update the gencode to avoid compatibility violations in the next runtime release.\n",
      "  warnings.warn(\n",
      "/Users/mark/数学建模/cvd_ydf/.conda/lib/python3.11/site-packages/google/protobuf/runtime_version.py:98: UserWarning: Protobuf gencode version 5.29.1 is exactly one major version older than the runtime version 6.31.0 at yggdrasil_decision_forests/model/hyperparameter.proto. Please update the gencode to avoid compatibility violations in the next runtime release.\n",
      "  warnings.warn(\n",
      "/Users/mark/数学建模/cvd_ydf/.conda/lib/python3.11/site-packages/google/protobuf/runtime_version.py:98: UserWarning: Protobuf gencode version 5.29.1 is exactly one major version older than the runtime version 6.31.0 at yggdrasil_decision_forests/model/abstract_model.proto. Please update the gencode to avoid compatibility violations in the next runtime release.\n",
      "  warnings.warn(\n",
      "/Users/mark/数学建模/cvd_ydf/.conda/lib/python3.11/site-packages/google/protobuf/runtime_version.py:98: UserWarning: Protobuf gencode version 5.29.1 is exactly one major version older than the runtime version 6.31.0 at yggdrasil_decision_forests/utils/distribute/distribute.proto. Please update the gencode to avoid compatibility violations in the next runtime release.\n",
      "  warnings.warn(\n",
      "/Users/mark/数学建模/cvd_ydf/.conda/lib/python3.11/site-packages/google/protobuf/runtime_version.py:98: UserWarning: Protobuf gencode version 5.29.1 is exactly one major version older than the runtime version 6.31.0 at yggdrasil_decision_forests/metric/metric.proto. Please update the gencode to avoid compatibility violations in the next runtime release.\n",
      "  warnings.warn(\n",
      "/Users/mark/数学建模/cvd_ydf/.conda/lib/python3.11/site-packages/google/protobuf/runtime_version.py:98: UserWarning: Protobuf gencode version 5.29.1 is exactly one major version older than the runtime version 6.31.0 at yggdrasil_decision_forests/model/prediction.proto. Please update the gencode to avoid compatibility violations in the next runtime release.\n",
      "  warnings.warn(\n",
      "/Users/mark/数学建模/cvd_ydf/.conda/lib/python3.11/site-packages/google/protobuf/runtime_version.py:98: UserWarning: Protobuf gencode version 5.29.1 is exactly one major version older than the runtime version 6.31.0 at yggdrasil_decision_forests/utils/distribution.proto. Please update the gencode to avoid compatibility violations in the next runtime release.\n",
      "  warnings.warn(\n",
      "/Users/mark/数学建模/cvd_ydf/.conda/lib/python3.11/site-packages/google/protobuf/runtime_version.py:98: UserWarning: Protobuf gencode version 5.29.1 is exactly one major version older than the runtime version 6.31.0 at yggdrasil_decision_forests/utils/model_analysis.proto. Please update the gencode to avoid compatibility violations in the next runtime release.\n",
      "  warnings.warn(\n",
      "/Users/mark/数学建模/cvd_ydf/.conda/lib/python3.11/site-packages/google/protobuf/runtime_version.py:98: UserWarning: Protobuf gencode version 5.29.1 is exactly one major version older than the runtime version 6.31.0 at yggdrasil_decision_forests/dataset/example.proto. Please update the gencode to avoid compatibility violations in the next runtime release.\n",
      "  warnings.warn(\n",
      "/Users/mark/数学建模/cvd_ydf/.conda/lib/python3.11/site-packages/google/protobuf/runtime_version.py:98: UserWarning: Protobuf gencode version 5.29.1 is exactly one major version older than the runtime version 6.31.0 at yggdrasil_decision_forests/utils/partial_dependence_plot.proto. Please update the gencode to avoid compatibility violations in the next runtime release.\n",
      "  warnings.warn(\n",
      "/Users/mark/数学建模/cvd_ydf/.conda/lib/python3.11/site-packages/google/protobuf/runtime_version.py:98: UserWarning: Protobuf gencode version 5.29.1 is exactly one major version older than the runtime version 6.31.0 at yggdrasil_decision_forests/learner/hyperparameters_optimizer/hyperparameters_optimizer.proto. Please update the gencode to avoid compatibility violations in the next runtime release.\n",
      "  warnings.warn(\n",
      "/Users/mark/数学建模/cvd_ydf/.conda/lib/python3.11/site-packages/google/protobuf/runtime_version.py:98: UserWarning: Protobuf gencode version 5.29.1 is exactly one major version older than the runtime version 6.31.0 at yggdrasil_decision_forests/learner/hyperparameters_optimizer/optimizers/random.proto. Please update the gencode to avoid compatibility violations in the next runtime release.\n",
      "  warnings.warn(\n",
      "/Users/mark/数学建模/cvd_ydf/.conda/lib/python3.11/site-packages/google/protobuf/runtime_version.py:98: UserWarning: Protobuf gencode version 5.29.1 is exactly one major version older than the runtime version 6.31.0 at yggdrasil_decision_forests/model/gradient_boosted_trees/gradient_boosted_trees.proto. Please update the gencode to avoid compatibility violations in the next runtime release.\n",
      "  warnings.warn(\n",
      "/Users/mark/数学建模/cvd_ydf/.conda/lib/python3.11/site-packages/google/protobuf/runtime_version.py:98: UserWarning: Protobuf gencode version 5.29.1 is exactly one major version older than the runtime version 6.31.0 at yggdrasil_decision_forests/model/decision_tree/decision_tree.proto. Please update the gencode to avoid compatibility violations in the next runtime release.\n",
      "  warnings.warn(\n",
      "/Users/mark/数学建模/cvd_ydf/.conda/lib/python3.11/site-packages/google/protobuf/runtime_version.py:98: UserWarning: Protobuf gencode version 5.29.1 is exactly one major version older than the runtime version 6.31.0 at yggdrasil_decision_forests/model/random_forest/random_forest.proto. Please update the gencode to avoid compatibility violations in the next runtime release.\n",
      "  warnings.warn(\n",
      "/Users/mark/数学建模/cvd_ydf/.conda/lib/python3.11/site-packages/google/protobuf/runtime_version.py:98: UserWarning: Protobuf gencode version 5.29.1 is exactly one major version older than the runtime version 6.31.0 at yggdrasil_decision_forests/utils/fold_generator.proto. Please update the gencode to avoid compatibility violations in the next runtime release.\n",
      "  warnings.warn(\n",
      "/Users/mark/数学建模/cvd_ydf/.conda/lib/python3.11/site-packages/google/protobuf/runtime_version.py:98: UserWarning: Protobuf gencode version 5.29.1 is exactly one major version older than the runtime version 6.31.0 at yggdrasil_decision_forests/utils/distribute/implementations/grpc/grpc.proto. Please update the gencode to avoid compatibility violations in the next runtime release.\n",
      "  warnings.warn(\n",
      "/Users/mark/数学建模/cvd_ydf/.conda/lib/python3.11/site-packages/google/protobuf/runtime_version.py:98: UserWarning: Protobuf gencode version 5.29.1 is exactly one major version older than the runtime version 6.31.0 at yggdrasil_decision_forests/learner/gradient_boosted_trees/gradient_boosted_trees.proto. Please update the gencode to avoid compatibility violations in the next runtime release.\n",
      "  warnings.warn(\n"
     ]
    },
    {
     "ename": "AttributeError",
     "evalue": "'MessageFactory' object has no attribute 'GetPrototype'",
     "output_type": "error",
     "traceback": [
      "\u001b[31m---------------------------------------------------------------------------\u001b[39m",
      "\u001b[31mAttributeError\u001b[39m                            Traceback (most recent call last)",
      "\u001b[31mAttributeError\u001b[39m: 'MessageFactory' object has no attribute 'GetPrototype'"
     ]
    },
    {
     "ename": "AttributeError",
     "evalue": "'MessageFactory' object has no attribute 'GetPrototype'",
     "output_type": "error",
     "traceback": [
      "\u001b[31m---------------------------------------------------------------------------\u001b[39m",
      "\u001b[31mAttributeError\u001b[39m                            Traceback (most recent call last)",
      "\u001b[31mAttributeError\u001b[39m: 'MessageFactory' object has no attribute 'GetPrototype'"
     ]
    },
    {
     "ename": "AttributeError",
     "evalue": "'MessageFactory' object has no attribute 'GetPrototype'",
     "output_type": "error",
     "traceback": [
      "\u001b[31m---------------------------------------------------------------------------\u001b[39m",
      "\u001b[31mAttributeError\u001b[39m                            Traceback (most recent call last)",
      "\u001b[31mAttributeError\u001b[39m: 'MessageFactory' object has no attribute 'GetPrototype'"
     ]
    },
    {
     "ename": "AttributeError",
     "evalue": "'MessageFactory' object has no attribute 'GetPrototype'",
     "output_type": "error",
     "traceback": [
      "\u001b[31m---------------------------------------------------------------------------\u001b[39m",
      "\u001b[31mAttributeError\u001b[39m                            Traceback (most recent call last)",
      "\u001b[31mAttributeError\u001b[39m: 'MessageFactory' object has no attribute 'GetPrototype'"
     ]
    },
    {
     "ename": "AttributeError",
     "evalue": "'MessageFactory' object has no attribute 'GetPrototype'",
     "output_type": "error",
     "traceback": [
      "\u001b[31m---------------------------------------------------------------------------\u001b[39m",
      "\u001b[31mAttributeError\u001b[39m                            Traceback (most recent call last)",
      "\u001b[31mAttributeError\u001b[39m: 'MessageFactory' object has no attribute 'GetPrototype'"
     ]
    },
    {
     "ename": "AttributeError",
     "evalue": "'MessageFactory' object has no attribute 'GetPrototype'",
     "output_type": "error",
     "traceback": [
      "\u001b[31m---------------------------------------------------------------------------\u001b[39m",
      "\u001b[31mAttributeError\u001b[39m                            Traceback (most recent call last)",
      "\u001b[31mAttributeError\u001b[39m: 'MessageFactory' object has no attribute 'GetPrototype'"
     ]
    }
   ],
   "source": [
    "import os\n",
    "os.environ[\"CUDA_VISIBLE_DEVICES\"]=\"0\"\n",
    "import ydf\n",
    "import pandas as pd\n",
    "import numpy as np\n",
    "import tensorflow as tf\n",
    "import tf_keras\n",
    "import math"
   ]
  },
  {
   "cell_type": "code",
   "execution_count": 2,
   "id": "59c16982",
   "metadata": {},
   "outputs": [],
   "source": [
    "dataset_df = pd.read_csv(\"data/cvd_v2.csv\", sep=',')\n"
   ]
  },
  {
   "cell_type": "code",
   "execution_count": null,
   "id": "9a5fcb32",
   "metadata": {},
   "outputs": [
    {
     "name": "stdout",
     "output_type": "stream",
     "text": [
      "61781个样本用于训练，6904个样本用于测试。\n"
     ]
    }
   ],
   "source": [
    "# 将数据集分割为训练集和测试集。\n",
    "def split_dataset(dataset, test_ratio=0.1):\n",
    "  \"\"\"将panda数据框分割成两部分。\"\"\"\n",
    "  test_indices = np.random.rand(len(dataset)) < test_ratio\n",
    "  return dataset[~test_indices], dataset[test_indices]\n",
    "\n",
    "train_ds_pd, test_ds_pd = split_dataset(dataset_df)\n",
    "print(\"{}个样本用于训练，{}个样本用于测试。\".format(\n",
    "    len(train_ds_pd), len(test_ds_pd)))"
   ]
  },
  {
   "cell_type": "code",
   "execution_count": 4,
   "id": "fd3a4d79",
   "metadata": {},
   "outputs": [
    {
     "name": "stdout",
     "output_type": "stream",
     "text": [
      "Num GPUs Available:  1\n"
     ]
    }
   ],
   "source": [
    "print(\"Num GPUs Available: \", len(tf.config.experimental.list_physical_devices('GPU')))"
   ]
  },
  {
   "cell_type": "code",
   "execution_count": 15,
   "id": "0ac6c351",
   "metadata": {},
   "outputs": [
    {
     "name": "stdout",
     "output_type": "stream",
     "text": [
      "Train model on 61781 examples\n"
     ]
    },
    {
     "name": "stdout",
     "output_type": "stream",
     "text": [
      "Model trained in 0:00:04.589833\n",
      "accuracy: 0.732039\n",
      "confusion matrix:\n",
      "    label (row) \\ prediction (col)\n",
      "    +------+------+------+\n",
      "    |      |    0 |    1 |\n",
      "    +------+------+------+\n",
      "    |    0 | 2721 |  777 |\n",
      "    +------+------+------+\n",
      "    |    1 | 1073 | 2333 |\n",
      "    +------+------+------+\n",
      "characteristics:\n",
      "    name: '1' vs others\n",
      "    ROC AUC: 0.777159\n",
      "    PR AUC: 0.756443\n",
      "    Num thresholds: 272\n",
      "loss: 1.05211\n",
      "num examples: 6904\n",
      "num examples (weighted): 6904\n",
      "\n"
     ]
    }
   ],
   "source": [
    "# tf.debugging.set_log_device_placement(True)\n",
    "\n",
    "# tuner = ydf.RandomSearchTuner(num_trials=100, automatic_search_space=True)\n",
    "model = ydf.RandomForestLearner(label=\"cardio\",num_trees=270).train(train_ds_pd)\n",
    "evaluation = model.evaluate(test_ds_pd)\n",
    "# model_2 = ydf.GradientBoostedTreesLearner(label=\"cardio\",tuner=tuner).train(train_ds_pd)\n",
    "# evaluation_2 = model_2.evaluate(test_ds_pd)\n",
    "# model_3 = ydf.RandomForestLearner(\n",
    "#     label=\"cardio\",\n",
    "#     # Tell the Random Forest to compute Out-of-bag variable importances.\n",
    "#     # This is expensive but gives the best results.\n",
    "#     compute_oob_variable_importances=True,\n",
    "#     # Enable feature selection using the \"backward selection\" algorithm.\n",
    "#     feature_selector=ydf.BackwardSelectionFeatureSelector(),\n",
    "# ).train(train_ds_pd)\n",
    "\n",
    "# evaluation_3 = model_3.evaluate(test_ds_pd)\n",
    "print(evaluation)\n",
    "# print(evaluation_2)\n",
    "# print(evaluation_3)\n"
   ]
  },
  {
   "cell_type": "code",
   "execution_count": null,
   "id": "19ab9070",
   "metadata": {},
   "outputs": [],
   "source": [
    "\n",
    "model.describe()"
   ]
  }
 ],
 "metadata": {
  "kernelspec": {
   "display_name": "Python 3",
   "language": "python",
   "name": "python3"
  },
  "language_info": {
   "codemirror_mode": {
    "name": "ipython",
    "version": 3
   },
   "file_extension": ".py",
   "mimetype": "text/x-python",
   "name": "python",
   "nbconvert_exporter": "python",
   "pygments_lexer": "ipython3",
   "version": "3.11.11"
  }
 },
 "nbformat": 4,
 "nbformat_minor": 5
}
